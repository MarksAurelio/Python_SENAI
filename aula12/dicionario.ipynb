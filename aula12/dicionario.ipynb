{
 "cells": [
  {
   "cell_type": "markdown",
   "metadata": {},
   "source": [
    "Dicionário\n",
    "\n",
    "É um conjunto de chaves e valores que distinguem um objeto. Estas chaves nos chamamos de KEYS e seus VALUES. É um tipo especial de variável python identificada pelas {}."
   ]
  },
  {
   "cell_type": "code",
   "execution_count": 44,
   "metadata": {},
   "outputs": [
    {
     "name": "stdout",
     "output_type": "stream",
     "text": [
      "{'nome': 'Luciano', 'idade': 30, 'cidade': 'São Paulo'}\n"
     ]
    }
   ],
   "source": [
    "pessoa = {  \n",
    "    'nome': 'Luciano',\n",
    "    'idade': 30,\n",
    "    'cidade': 'São Paulo'\n",
    "}\n",
    "\n",
    "print(pessoa)"
   ]
  },
  {
   "cell_type": "code",
   "execution_count": 45,
   "metadata": {},
   "outputs": [
    {
     "name": "stdout",
     "output_type": "stream",
     "text": [
      "dict_keys(['nome', 'idade', 'cidade'])\n",
      "dict_values(['Luciano', 30, 'São Paulo'])\n"
     ]
    }
   ],
   "source": [
    "# Método KEYS()\n",
    "\n",
    "print(pessoa.keys())\n",
    "\n",
    "# Método VALUES()\n",
    "\n",
    "print(pessoa.values())"
   ]
  },
  {
   "cell_type": "code",
   "execution_count": 46,
   "metadata": {},
   "outputs": [
    {
     "data": {
      "text/plain": [
       "'São Paulo'"
      ]
     },
     "execution_count": 46,
     "metadata": {},
     "output_type": "execute_result"
    }
   ],
   "source": [
    "# Olhando o conteúdo de uma chave (key)\n",
    "\n",
    "pessoa['cidade']"
   ]
  },
  {
   "cell_type": "code",
   "execution_count": 47,
   "metadata": {},
   "outputs": [
    {
     "name": "stdout",
     "output_type": "stream",
     "text": [
      "{'nome': 'Luciano', 'idade': 30, 'cidade': 'São Paulo'}\n",
      "{'nome': 'Luciano', 'idade': 30, 'cidade': 'Brasilia'}\n"
     ]
    }
   ],
   "source": [
    "# Atribuindo um novo valor a uma chave (key)\n",
    "print(pessoa)\n",
    "pessoa['cidade'] = 'Brasilia'\n",
    "print(pessoa)"
   ]
  },
  {
   "cell_type": "code",
   "execution_count": 48,
   "metadata": {},
   "outputs": [
    {
     "name": "stdout",
     "output_type": "stream",
     "text": [
      "{'nome': 'Luciano', 'idade': 30, 'cidade': 'Brasilia', 'email': 'luciano@teste.com'}\n"
     ]
    }
   ],
   "source": [
    "pessoa['email'] = 'luciano@teste.com'\n",
    "\n",
    "print(pessoa)"
   ]
  },
  {
   "cell_type": "code",
   "execution_count": 49,
   "metadata": {},
   "outputs": [
    {
     "name": "stdout",
     "output_type": "stream",
     "text": [
      "{'nome': 'Luciano', 'email': 'luciano@teste.com'}\n"
     ]
    }
   ],
   "source": [
    "# Excluindo uma chave (key) e seu valor\n",
    "del pessoa['idade']\n",
    "\n",
    "pessoa.pop('cidade')\n",
    "\n",
    "print(pessoa)"
   ]
  },
  {
   "cell_type": "code",
   "execution_count": 50,
   "metadata": {},
   "outputs": [
    {
     "name": "stdout",
     "output_type": "stream",
     "text": [
      "[{'nome': 'Daniel', 'cidade': 'Brazlandia'}, {'nome': 'Marcos', 'cidade': 'Recanto'}, {'nome': 'Luana', 'cidade': 'Brasília'}, {'nome': 'Francineide', 'cidade': 'Ceilândia'}]\n",
      "0 {'nome': 'Daniel', 'cidade': 'Brazlandia'}\n",
      "1 {'nome': 'Marcos', 'cidade': 'Recanto'}\n",
      "2 {'nome': 'Luana', 'cidade': 'Brasília'}\n",
      "3 {'nome': 'Francineide', 'cidade': 'Ceilândia'}\n"
     ]
    }
   ],
   "source": [
    "alunos = [\n",
    "    {'nome': 'Daniel', 'cidade': 'Brazlandia'},\n",
    "    {'nome': 'Marcos', 'cidade': 'Recanto'},\n",
    "    {'nome': 'Luana', 'cidade': 'Brasília'},\n",
    "    {'nome': 'Francineide', 'cidade': 'Ceilândia'}\n",
    "]\n",
    "\n",
    "print(alunos)\n",
    "\n",
    "for indice, aluno in enumerate(alunos):\n",
    "    print(indice, aluno)"
   ]
  },
  {
   "cell_type": "code",
   "execution_count": 52,
   "metadata": {},
   "outputs": [
    {
     "name": "stdout",
     "output_type": "stream",
     "text": [
      "{'nome': 'Luana', 'cidade': 'Brasília'}\n",
      "Samambaia\n"
     ]
    }
   ],
   "source": [
    "print(alunos[2])\n",
    "\n",
    "alunos[2]['cidade'] = 'Samambaia'\n",
    "\n",
    "print(alunos[2]['cidade'])"
   ]
  },
  {
   "cell_type": "code",
   "execution_count": 54,
   "metadata": {},
   "outputs": [
    {
     "name": "stdout",
     "output_type": "stream",
     "text": [
      "{'Daniel': {'matricula': '1234', 'escolaridade': 'superior'}, 'Luana': {'matricula': '5678', 'escolaridade': 'superior'}, 'Gilmar': {'matricula': '4321', 'escolaridade': 'superior'}, 'Felipe': {'matricula': '9874', 'escolaridade': 'medio'}}\n"
     ]
    }
   ],
   "source": [
    "alunos_dicionario = {\n",
    "    'Daniel': {'matricula': '1234', 'escolaridade': 'superior'},\n",
    "    'Luana': {'matricula': '5678', 'escolaridade': 'superior'},\n",
    "    'Gilmar': {'matricula': '4321', 'escolaridade': 'superior'},\n",
    "    'Felipe': {'matricula': '9874', 'escolaridade': 'medio'}\n",
    "}\n",
    "\n",
    "print(alunos_dicionario)"
   ]
  },
  {
   "cell_type": "code",
   "execution_count": 55,
   "metadata": {},
   "outputs": [
    {
     "name": "stdout",
     "output_type": "stream",
     "text": [
      "medio\n"
     ]
    }
   ],
   "source": [
    "print(alunos_dicionario['Felipe']['escolaridade'])"
   ]
  }
 ],
 "metadata": {
  "interpreter": {
   "hash": "023695796a0456db28915f727eb64cb942055160ea749933aa044f2070f70f3a"
  },
  "kernelspec": {
   "display_name": "Python 3.12.5 64-bit (windows store)",
   "language": "python",
   "name": "python3"
  },
  "language_info": {
   "codemirror_mode": {
    "name": "ipython",
    "version": 3
   },
   "file_extension": ".py",
   "mimetype": "text/x-python",
   "name": "python",
   "nbconvert_exporter": "python",
   "pygments_lexer": "ipython3",
   "version": "3.12.5"
  },
  "orig_nbformat": 4
 },
 "nbformat": 4,
 "nbformat_minor": 2
}

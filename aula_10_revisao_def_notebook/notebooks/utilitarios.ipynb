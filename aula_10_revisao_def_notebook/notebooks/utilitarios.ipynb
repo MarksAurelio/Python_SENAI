{
 "cells": [
  {
   "cell_type": "code",
   "execution_count": 9,
   "id": "7aa8aa0b-72ce-4bb8-86d2-dd0575b52b2b",
   "metadata": {},
   "outputs": [
    {
     "ename": "SyntaxError",
     "evalue": "invalid syntax (3483480097.py, line 1)",
     "output_type": "error",
     "traceback": [
      "\u001b[1;36m  Cell \u001b[1;32mIn[9], line 1\u001b[1;36m\u001b[0m\n\u001b[1;33m    numeros =\u001b[0m\n\u001b[1;37m              ^\u001b[0m\n\u001b[1;31mSyntaxError\u001b[0m\u001b[1;31m:\u001b[0m invalid syntax\n"
     ]
    }
   ],
   "source": [
    "numeros = \n",
    "\n",
    "resultado =\n",
    "\n",
    "display(resultado)"
   ]
  },
  {
   "cell_type": "code",
   "execution_count": 13,
   "id": "01d988f6-48cf-4557-955a-e6b0e830abc3",
   "metadata": {},
   "outputs": [
    {
     "name": "stdout",
     "output_type": "stream",
     "text": [
      "True\n"
     ]
    }
   ],
   "source": [
    "tabuleiro = ['a',1,2,3,'a',5,6,7,'a']\n",
    "venceu = False\n",
    "combinacoes_vitoria = [\n",
    "    (0,1,2), (3,4,5), (6,7,8), #linhas\n",
    "    (0,3,6), (1,4,7), (2,5,8), #colunas\n",
    "    (0,4,8), (2,4,6)           #diagonais\n",
    "]\n",
    "venceu = any(tabuleiro[a] == tabuleiro[b] == tabuleiro[c] for a, b, c in combinacoes_vitoria)\n",
    "        # ou\n",
    "# for a, b, c in combinacoes_vitoria:\n",
    "#     if tabuleiro[a] == tabuleiro[b] == tabuleiro[c]:\n",
    "#         venceu = True\n",
    "\n",
    "\n",
    "print(venceu)\n"
   ]
  },
  {
   "cell_type": "code",
   "execution_count": null,
   "id": "53fa59aa-ced5-4d49-8bb2-821bd7f518fe",
   "metadata": {},
   "outputs": [],
   "source": [
    "lista_nome = [\n",
    "    ['luciano', 'lucas', 'luan'],\n",
    "    ['luciana', 'luca', 'luana'],\n",
    "    ['Joana', 'Jorge', 'Jó']\n",
    "]\n",
    "\n",
    "for nomes in lista_nomes:\n",
    "    print(nome)\n",
    "\n",
    "# ou\n",
    "for nome1, nome2, nome3 in lista_nomes:\n",
    "    print(nome1, nome2, nome3)\n"
   ]
  },
  {
   "cell_type": "code",
   "execution_count": null,
   "id": "2c750336-7c8a-4d64-8d20-0534b7d8ce07",
   "metadata": {},
   "outputs": [],
   "source": [
    "lista = [False, False, False]\n",
    "\n",
    "resposta = all(lista)\n",
    "\n",
    "print(resposta)\n",
    "\n",
    "#ou\n",
    "\n",
    "ista = [False, True, False]\n",
    "\n",
    "resposta = all(lista)\n",
    "\n",
    "print(resposta)\n",
    "\n",
    "#ou\n",
    "\n",
    "ista = [True, True, True]\n",
    "\n",
    "resposta = all(lista)\n",
    "\n",
    "print(resposta)\n"
   ]
  },
  {
   "cell_type": "code",
   "execution_count": 12,
   "id": "71057d86-5a87-443d-ade2-e929bdb22af6",
   "metadata": {},
   "outputs": [
    {
     "name": "stdout",
     "output_type": "stream",
     "text": [
      "['Laranja', 'Morango', 'Uva']\n",
      "['Laranja', 'Morango', 'Uva']\n",
      "['Laranja', 'Kiwi', 'Uva']\n",
      "['Laranja', 'Morango', 'Uva']\n"
     ]
    }
   ],
   "source": [
    "lista_frutas = ['Laranja', 'Morango', 'Uva']\n",
    "\n",
    "copia_lista = lista_frutas[:] # [:] difere a original da cópia nos print's\n",
    "\n",
    "print(lista_frutas)\n",
    "print(copia_lista)\n",
    "\n",
    "lista_frutas[1] = 'Kiwi'\n",
    "\n",
    "print(lista_frutas)\n",
    "print(copia_lista)\n"
   ]
  },
  {
   "cell_type": "code",
   "execution_count": 18,
   "id": "bdb4da36-f7a5-46be-9aa4-608ca3efa1f8",
   "metadata": {},
   "outputs": [
    {
     "name": "stdin",
     "output_type": "stream",
     "text": [
      "Informe o número:  10\n",
      "Informe o número:  5\n"
     ]
    },
    {
     "name": "stdout",
     "output_type": "stream",
     "text": [
      "O resultado é:  2.0\n"
     ]
    },
    {
     "name": "stdin",
     "output_type": "stream",
     "text": [
      "Informe o número:  0\n",
      "Informe o número:  0\n"
     ]
    },
    {
     "name": "stdout",
     "output_type": "stream",
     "text": [
      "<class 'ZeroDivisionError'>\n"
     ]
    }
   ],
   "source": [
    "try:\n",
    "    numero1 = int(input('Informe o número: '))\n",
    "    numero2 = int(input('Informe o número: '))\n",
    "\n",
    "    print('O resultado é: ', numero1 / numero2)\n",
    "\n",
    "except ValueError: \n",
    "    print(ValueError)\n",
    "\n",
    "# ou\n",
    "try:\n",
    "    numero1 = int(input('Informe o número: '))\n",
    "    numero2 = int(input('Informe o número: '))\n",
    "\n",
    "    print('O resultado é: ', numero1 / numero2)\n",
    "\n",
    "except ZeroDivisionError: \n",
    "    print(ZeroDivisionError)\n",
    "\n",
    "except ValueError: \n",
    "    print(ValueError)\n",
    "\n",
    "print('Estou depois do try')\n"
   ]
  },
  {
   "cell_type": "code",
   "execution_count": null,
   "id": "4abe443f-e07d-43f6-948e-3ed9e8edf6f0",
   "metadata": {},
   "outputs": [],
   "source": []
  }
 ],
 "metadata": {
  "kernelspec": {
   "display_name": "Python 3 (ipykernel)",
   "language": "python",
   "name": "python3"
  },
  "language_info": {
   "codemirror_mode": {
    "name": "ipython",
    "version": 3
   },
   "file_extension": ".py",
   "mimetype": "text/x-python",
   "name": "python",
   "nbconvert_exporter": "python",
   "pygments_lexer": "ipython3",
   "version": "3.12.5"
  }
 },
 "nbformat": 4,
 "nbformat_minor": 5
}

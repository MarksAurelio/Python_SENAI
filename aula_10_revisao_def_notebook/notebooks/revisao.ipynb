{
 "cells": [
  {
   "cell_type": "markdown",
   "metadata": {},
   "source": [
    "# Relembrando variavéis\n",
    "\n",
    "tipo:\n",
    "\n",
    "    - int()\n",
    "    - str()\n",
    "    - float()\n",
    "    - bool()\n",
    "    - lista()\n",
    "    - tuple()\n",
    "    - dict()"
   ]
  },
  {
   "cell_type": "code",
   "execution_count": null,
   "metadata": {},
   "outputs": [],
   "source": [
    "numero = 1\n",
    "nome = 'luciano'\n",
    "numero_decimal = 10.9\n",
    "sera = True\n",
    "frutas = ['pêra', 'morango', 'uva']\n",
    "carros = ('gol', 'uno', 'fusca')\n",
    "pessoa = {'nome': 'Luciano', 'idade':30, 'altura':1.98}"
   ]
  },
  {
   "cell_type": "markdown",
   "metadata": {},
   "source": [
    "## Condicionais\n",
    "\n",
    "    * if\n",
    "    * match case"
   ]
  },
  {
   "cell_type": "code",
   "execution_count": null,
   "metadata": {},
   "outputs": [
    {
     "name": "stdout",
     "output_type": "stream",
     "text": [
      "O nome na variavél não é Luciano\n"
     ]
    }
   ],
   "source": [
    "if nome == 'Luciano': print('O nome está correto')\n",
    "else: print('O nome na variavél não é Luciano')"
   ]
  },
  {
   "cell_type": "code",
   "execution_count": null,
   "metadata": {},
   "outputs": [
    {
     "name": "stdout",
     "output_type": "stream",
     "text": [
      "Opção 1\n"
     ]
    }
   ],
   "source": [
    "match numero:\n",
    "    case 1:\n",
    "        print('Opção 1')\n",
    "    case 2:\n",
    "        print('Opção 2')\n",
    "    case 3:\n",
    "        print('Opção 3')\n",
    "    case 4:\n",
    "        print('Opção 4')\n",
    "    case _:\n",
    "        print('Opção inválida')\n",
    "    "
   ]
  },
  {
   "cell_type": "markdown",
   "metadata": {},
   "source": [
    "Laços de repetição\n",
    "\n",
    "    * for\n",
    "    * while"
   ]
  },
  {
   "cell_type": "code",
   "execution_count": null,
   "metadata": {},
   "outputs": [
    {
     "name": "stdout",
     "output_type": "stream",
     "text": [
      "O número é: 1\n",
      "O número é: 1\n",
      "O número é: 1\n",
      "O número é: 1\n",
      "O número é: 1\n"
     ]
    }
   ],
   "source": [
    "for i in range(5):\n",
    "    print(f'O número é: {numero}')"
   ]
  },
  {
   "cell_type": "code",
   "execution_count": null,
   "metadata": {},
   "outputs": [
    {
     "name": "stdout",
     "output_type": "stream",
     "text": [
      "O contador é: 0\n",
      "O contador é: 1\n",
      "O contador é: 2\n",
      "O contador é: 3\n",
      "O contador é: 4\n",
      "O contador é: 5\n"
     ]
    }
   ],
   "source": [
    "contador = 0\n",
    "while contador <= 5:\n",
    "    print(f'O contador é: {contador}')\n",
    "    contador += 1"
   ]
  },
  {
   "cell_type": "markdown",
   "metadata": {},
   "source": [
    "## Metodos de string\n",
    "\n",
    "    - upper\n",
    "    - lower\n",
    "    - capitalize\n",
    "    - split\n",
    "    - strip\n",
    "    - slice\n",
    "    - replace\n",
    "    - join\n"
   ]
  },
  {
   "cell_type": "code",
   "execution_count": null,
   "metadata": {},
   "outputs": [
    {
     "name": "stdout",
     "output_type": "stream",
     "text": [
      "luciano lopes ferreira\n",
      "Luciano lopes ferreira\n",
      "LUCIANO LOPES FERREIRA\n",
      "Luciano Lopes Ferreira\n",
      "Luciano Nunes Ferreira\n",
      "['Luciano Lopes Ferreira']\n",
      "Luciano-Adriana\n"
     ]
    }
   ],
   "source": [
    "aluno = 'Luciano Lopes Ferreira'\n",
    "alunos = ['Luciano', 'Adriana']\n",
    "print(aluno.lower()) # deixa minusculo\n",
    "print(aluno.capitalize()) # deixa primeira letra maiuscula\n",
    "print(aluno.upper()) # deixa maiuscula\n",
    "print(aluno.strip()) # remove espaços\n",
    "print(aluno.replace('Lopes', 'Nunes')) # substitui uma sequência de caracter por outra\n",
    "print(aluno.split('-')) # divide um string de acordo com um separador\n",
    "print('-'.join(alunos)) # juntar uma lista de strings em uma única string, concatenação de múltiplos strings\n"
   ]
  },
  {
   "cell_type": "markdown",
   "metadata": {},
   "source": [
    "# Metodos de lista\n",
    "\n",
    "    - append\n",
    "    - extend\n",
    "    - insert\n",
    "    - remove\n",
    "    - pop\n",
    "    - index\n",
    "    - del\n",
    "    - sort\n",
    "    - reverse"
   ]
  },
  {
   "cell_type": "code",
   "execution_count": null,
   "metadata": {},
   "outputs": [
    {
     "name": "stdout",
     "output_type": "stream",
     "text": [
      "['notebook', 'smartphone', 'smart tv', 'fliperama']\n",
      "['notebook', 'smartphone', 'smart tv', 'fliperama', 'sofá', 'mesa', 'puff']\n",
      "['notebook', 'smartphone', 'smart tv', 'playstation 5', 'fliperama', 'sofá', 'mesa', 'puff']\n",
      "['notebook', 'smartphone', 'smart tv', 'playstation 5', 'fliperama', 'sofá', 'mesa']\n",
      "['notebook', 'smart tv', 'playstation 5', 'fliperama', 'sofá', 'mesa']\n",
      "['notebook', 'playstation 5', 'fliperama', 'sofá', 'mesa']\n",
      "['notebook', 'playstation 5', 'fliperama', 'sofá', 'mesa']\n",
      "['fliperama', 'mesa', 'notebook', 'playstation 5', 'sofá']\n",
      "['sofá', 'playstation 5', 'notebook', 'mesa', 'fliperama']\n"
     ]
    }
   ],
   "source": [
    "produtos = ['notebook', 'smartphone', 'smart tv']\n",
    "\n",
    "produtos.append('fliperama') # adiciona um element no final da lista\n",
    "print(produtos)\n",
    "produtos.extend(['sofá', 'mesa', 'puff',]) # incrementa a lista com outra lista\n",
    "print(produtos)\n",
    "produtos.insert(3, 'playstation 5') # aciona um novo elemento em uma posição específica\n",
    "print(produtos)\n",
    "produtos.pop() #remove o último elemento da lista\n",
    "print(produtos)\n",
    "produtos.pop(1) # remove um elemento específico da lista\n",
    "print(produtos)\n",
    "produtos.remove('smart tv') # remove a primeira ocorrência encontrada da lista\n",
    "print(produtos)\n",
    "produtos.index('notebook') # retorna o índice da primeir ocorrência encontrada\n",
    "print(produtos)\n",
    "produtos.sort() # organiza em ordem crescente a lista\n",
    "print(produtos)\n",
    "produtos.reverse() # inverte a lista de trás pra frente\n",
    "print(produtos)\n"
   ]
  },
  {
   "cell_type": "markdown",
   "metadata": {},
   "source": [
    "## Funções\n",
    "\n",
    "São objetos capazes de armazenar um bloco de código e depois podem ser reaproveitados em outro momento do código, somente chamando pelo seu nome.\n",
    "\n",
    "Tipos:\n",
    "- função sem retorno\n",
    "- função com retorno\n",
    "- função com parametros\n",
    "- função sem parametros\n",
    "- função lambda\n",
    "- função com múltiplos parametros\n",
    "    - parametros posicionais\n",
    "    - parametros nomeados\n",
    "    - funções recursivas"
   ]
  },
  {
   "cell_type": "code",
   "execution_count": null,
   "metadata": {},
   "outputs": [],
   "source": [
    "def saudacao():\n",
    "    print('Hello World!')"
   ]
  },
  {
   "cell_type": "code",
   "execution_count": null,
   "metadata": {},
   "outputs": [
    {
     "name": "stdout",
     "output_type": "stream",
     "text": [
      "Hello World!\n"
     ]
    }
   ],
   "source": [
    "saudacao()"
   ]
  },
  {
   "cell_type": "code",
   "execution_count": null,
   "metadata": {},
   "outputs": [],
   "source": [
    "# Função com retorno\n",
    "\n",
    "def somar():\n",
    "    soma = 10 + 25\n",
    "    return soma"
   ]
  },
  {
   "cell_type": "code",
   "execution_count": null,
   "metadata": {},
   "outputs": [
    {
     "name": "stdout",
     "output_type": "stream",
     "text": [
      "35\n"
     ]
    }
   ],
   "source": [
    "print(somar())"
   ]
  },
  {
   "cell_type": "code",
   "execution_count": null,
   "metadata": {},
   "outputs": [],
   "source": [
    "# com parametros\n",
    "\n",
    "def somar2(numero1, numero2):   \n",
    "    soma = numero1 + numero2\n",
    "    return soma"
   ]
  },
  {
   "cell_type": "code",
   "execution_count": null,
   "metadata": {},
   "outputs": [
    {
     "data": {
      "text/plain": [
       "13"
      ]
     },
     "execution_count": 147,
     "metadata": {},
     "output_type": "execute_result"
    }
   ],
   "source": [
    "somar2(5, 8)"
   ]
  },
  {
   "cell_type": "code",
   "execution_count": null,
   "metadata": {},
   "outputs": [],
   "source": [
    "# função lambda\n",
    "\n",
    "soma_lambda = lambda numero1, numero2: numero1 + numero2"
   ]
  },
  {
   "cell_type": "code",
   "execution_count": null,
   "metadata": {},
   "outputs": [
    {
     "data": {
      "text/plain": [
       "178"
      ]
     },
     "execution_count": 149,
     "metadata": {},
     "output_type": "execute_result"
    }
   ],
   "source": [
    "soma_lambda(78, 100)"
   ]
  },
  {
   "cell_type": "code",
   "execution_count": null,
   "metadata": {},
   "outputs": [],
   "source": [
    "# função com múltiplos parametros (argumentos) posicionais\n",
    "\n",
    "def somar3 (*numero):\n",
    "    resultado = sum(numero)\n",
    "    return resultado"
   ]
  },
  {
   "cell_type": "code",
   "execution_count": null,
   "metadata": {},
   "outputs": [
    {
     "data": {
      "text/plain": [
       "101"
      ]
     },
     "execution_count": 151,
     "metadata": {},
     "output_type": "execute_result"
    }
   ],
   "source": [
    "somar3(1, 12, 25, 26, 27, 10)"
   ]
  },
  {
   "cell_type": "code",
   "execution_count": null,
   "metadata": {},
   "outputs": [],
   "source": [
    "# função múltiplos parametros nomeados\n",
    "\n",
    "def gerar_produto (**parametros):\n",
    "    produto = parametros \n",
    "    return produto"
   ]
  },
  {
   "cell_type": "code",
   "execution_count": null,
   "metadata": {},
   "outputs": [
    {
     "data": {
      "text/plain": [
       "{'nome': 'Notebook', 'preco': 3000.0, 'fabricante': 'samsung'}"
      ]
     },
     "execution_count": 153,
     "metadata": {},
     "output_type": "execute_result"
    }
   ],
   "source": [
    "gerar_produto(nome='Notebook', preco= 3000.00, fabricante='samsung')"
   ]
  },
  {
   "cell_type": "code",
   "execution_count": null,
   "metadata": {},
   "outputs": [],
   "source": [
    "# função fatorial convencional\n",
    "\n",
    "def calcula_fatorial(numero):\n",
    "    resultado = 1\n",
    "    for i in range(1, numero + 1):\n",
    "        resultado *= i\n",
    "        return resultado"
   ]
  },
  {
   "cell_type": "code",
   "execution_count": null,
   "metadata": {},
   "outputs": [
    {
     "data": {
      "text/plain": [
       "1"
      ]
     },
     "execution_count": 161,
     "metadata": {},
     "output_type": "execute_result"
    }
   ],
   "source": [
    "calcula_fatorial(5)"
   ]
  },
  {
   "cell_type": "code",
   "execution_count": 187,
   "metadata": {},
   "outputs": [],
   "source": [
    "def calcula_fatorial2(numero):\n",
    "    if numero == 0 or numero == 1:\n",
    "        return 1\n",
    "    else:\n",
    "        return numero * calcula_fatorial2(numero-1)"
   ]
  },
  {
   "cell_type": "code",
   "execution_count": 188,
   "metadata": {},
   "outputs": [
    {
     "name": "stdout",
     "output_type": "stream",
     "text": [
      "120\n"
     ]
    }
   ],
   "source": [
    "print(calcula_fatorial2(5))"
   ]
  }
 ],
 "metadata": {
  "interpreter": {
   "hash": "023695796a0456db28915f727eb64cb942055160ea749933aa044f2070f70f3a"
  },
  "kernelspec": {
   "display_name": "Python 3.12.5 64-bit (windows store)",
   "language": "python",
   "name": "python3"
  },
  "language_info": {
   "codemirror_mode": {
    "name": "ipython",
    "version": 3
   },
   "file_extension": ".py",
   "mimetype": "text/x-python",
   "name": "python",
   "nbconvert_exporter": "python",
   "pygments_lexer": "ipython3",
   "version": "3.12.5"
  },
  "orig_nbformat": 4
 },
 "nbformat": 4,
 "nbformat_minor": 2
}
